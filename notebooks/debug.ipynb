{
 "cells": [
  {
   "cell_type": "code",
   "execution_count": 1,
   "id": "87ed6583",
   "metadata": {},
   "outputs": [
    {
     "data": {
      "text/plain": [
       "True"
      ]
     },
     "execution_count": 1,
     "metadata": {},
     "output_type": "execute_result"
    }
   ],
   "source": [
    "import os\n",
    "import re\n",
    "import sys\n",
    "sys.path.insert(0, '/Users/admin-wana/Projects/finance-tweets-builder')\n",
    "import time\n",
    "import base64\n",
    "import requests\n",
    "from datetime import datetime\n",
    "from dotenv import load_dotenv\n",
    "from playwright.sync_api import sync_playwright\n",
    "from transformers import pipeline\n",
    "from config.database import execute_query\n",
    "\n",
    "load_dotenv()"
   ]
  },
  {
   "cell_type": "code",
   "execution_count": 5,
   "id": "1017e15a",
   "metadata": {},
   "outputs": [
    {
     "data": {
      "text/plain": [
       "[(1, 83823),\n",
       " (83824, 167645),\n",
       " (167646, 251467),\n",
       " (251468, 335289),\n",
       " (335290, 419111),\n",
       " (419112, 502933),\n",
       " (502934, 586755),\n",
       " (586756, 670577),\n",
       " (670578, 754399),\n",
       " (754400, 838221)]"
      ]
     },
     "execution_count": 5,
     "metadata": {},
     "output_type": "execute_result"
    }
   ],
   "source": [
    "def partition_ranges(db_size, parts=10):\n",
    "    ranges = []\n",
    "    base_size = db_size // parts\n",
    "    remainder = db_size % parts\n",
    "    start = 1\n",
    "    for i in range(parts):\n",
    "        extra = 1 if i < remainder else 0\n",
    "        end = start + base_size + extra - 1\n",
    "        ranges.append((start, end))\n",
    "        start = end + 1\n",
    "    return ranges\n",
    "\n",
    "db_size_query = \"SELECT COUNT(*) as count FROM stocktwits_posts\"\n",
    "db_size_result = execute_query(db_size_query)\n",
    "\n",
    "db_size = db_size_result[0]['count'] if db_size_result else 0\n",
    "\n",
    "ranges = partition_ranges(db_size, parts=10)\n",
    "\n",
    "ranges"
   ]
  },
  {
   "cell_type": "code",
   "execution_count": 3,
   "id": "a6472209",
   "metadata": {},
   "outputs": [],
   "source": [
    "def get_authors():\n",
    "    select_query = f\"SELECT author FROM authors ORDER BY execution_counter, id DESC LIMIT 10\"\n",
    "    result = execute_query(select_query)\n",
    "    return [row['author'] for row in result] if result else []"
   ]
  },
  {
   "cell_type": "code",
   "execution_count": 4,
   "id": "fcdab4e4",
   "metadata": {},
   "outputs": [
    {
     "data": {
      "text/plain": [
       "['Tahoe24x7',\n",
       " 'Ultrarich',\n",
       " 'Rev505',\n",
       " 'ceojoe',\n",
       " 'Madara2023',\n",
       " 'BPlus',\n",
       " 'buythedip1001',\n",
       " 'hiiclqtum16',\n",
       " 'NildaJPriest',\n",
       " 'Kdog125']"
      ]
     },
     "execution_count": 4,
     "metadata": {},
     "output_type": "execute_result"
    }
   ],
   "source": [
    "authors = get_authors()\n",
    "authors"
   ]
  },
  {
   "cell_type": "code",
   "execution_count": null,
   "id": "9ca4fac2",
   "metadata": {},
   "outputs": [],
   "source": []
  }
 ],
 "metadata": {
  "kernelspec": {
   "display_name": "dev",
   "language": "python",
   "name": "python3"
  },
  "language_info": {
   "codemirror_mode": {
    "name": "ipython",
    "version": 3
   },
   "file_extension": ".py",
   "mimetype": "text/x-python",
   "name": "python",
   "nbconvert_exporter": "python",
   "pygments_lexer": "ipython3",
   "version": "3.11.5"
  }
 },
 "nbformat": 4,
 "nbformat_minor": 5
}
