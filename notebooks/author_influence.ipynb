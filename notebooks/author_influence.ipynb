{
 "cells": [
  {
   "cell_type": "code",
   "execution_count": null,
   "id": "939197dd",
   "metadata": {},
   "outputs": [],
   "source": [
    "import sys\n",
    "sys.path.insert(0, '/Users/admin-wana/Projects/finance-tweets-builder')\n",
    "\n",
    "import pandas as pd\n",
    "import yfinance as yf\n",
    "import matplotlib.pyplot as plt\n",
    "from config.database import execute_query\n",
    "from datetime import datetime"
   ]
  }
 ],
 "metadata": {
  "language_info": {
   "name": "python"
  }
 },
 "nbformat": 4,
 "nbformat_minor": 5
}
